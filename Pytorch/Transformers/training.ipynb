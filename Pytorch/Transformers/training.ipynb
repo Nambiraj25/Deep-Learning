{
 "cells": [
  {
   "cell_type": "code",
   "execution_count": 3,
   "metadata": {},
   "outputs": [
    {
     "name": "stdout",
     "output_type": "stream",
     "text": [
      "Using device: cuda\n",
      "Device name: NVIDIA GeForce RTX 3060\n",
      "Device memory: 11.754150390625 GB\n",
      "Max Length of source sentence: 204\n",
      "Max Lenght of target sentence:196\n",
      "Preloading model opus_books_weights/tmodel_99.pt\n"
     ]
    },
    {
     "name": "stderr",
     "output_type": "stream",
     "text": [
      "Processing  Epoch 100: 100%|██████████| 158/158 [00:39<00:00,  4.00it/s, loss=1.189]\n",
      "stty: 'standard input': Inappropriate ioctl for device\n"
     ]
    },
    {
     "name": "stdout",
     "output_type": "stream",
     "text": [
      "--------------------------------------------------------------------------------\n",
      "    SOURCE: However, everything is queer to-day.'\n",
      "    TARGET: Entretanto, tudo está estranho hoje!\"\n",
      " PREDICTED: Entretanto , tudo está estranho hoje !\"\n",
      "--------------------------------------------------------------------------------\n",
      "    SOURCE: 'But what happens when you come to the beginning again?' Alice ventured to ask.\n",
      "    TARGET: \"Mas o que acontece quando dão a volta toda e voltam ao princípio?\", atreveu-se Alice a perguntar.\n",
      " PREDICTED: \" Mas o que acontece quando dão a volta toda e ao princípio ?\", atreveu - se Alice a perguntar .\n",
      "--------------------------------------------------------------------------------\n"
     ]
    },
    {
     "name": "stderr",
     "output_type": "stream",
     "text": [
      "Processing  Epoch 101: 100%|██████████| 158/158 [00:39<00:00,  4.01it/s, loss=1.183]\n",
      "stty: 'standard input': Inappropriate ioctl for device\n"
     ]
    },
    {
     "name": "stdout",
     "output_type": "stream",
     "text": [
      "--------------------------------------------------------------------------------\n",
      "    SOURCE: The Queen's argument was, that if something wasn't done about it in less than no time she'd have everybody executed, all round.\n",
      "    TARGET: O argumento da Rainha era, que se nenhuma coisa fosse feita em menos que tempo nenhum que todos em volta seriam executados.\n",
      " PREDICTED: O argumento da Rainha era , que se nenhuma coisa fosse feita em menos que tempo nenhum que todos em volta seriam executados .\n",
      "--------------------------------------------------------------------------------\n",
      "    SOURCE: The Mouse only growled in reply.\n",
      "    TARGET: O Rato somente grunhiu em resposta.\n",
      " PREDICTED: O Rato somente grunhiu em resposta .\n",
      "--------------------------------------------------------------------------------\n"
     ]
    },
    {
     "name": "stderr",
     "output_type": "stream",
     "text": [
      "Processing  Epoch 102: 100%|██████████| 158/158 [00:39<00:00,  4.01it/s, loss=1.158]\n",
      "stty: 'standard input': Inappropriate ioctl for device\n"
     ]
    },
    {
     "name": "stdout",
     "output_type": "stream",
     "text": [
      "--------------------------------------------------------------------------------\n",
      "    SOURCE: 'You might just as well say that \"I see what I eat\" is the same thing as \"I eat what I see\"!'\n",
      "    TARGET: \"Seria o mesmo que dizer que 'eu vejo o que como' é o mesmo que 'eu como o que vejo'!\n",
      " PREDICTED: \" o mesmo que dizer que ' eu vejo o que como ' é o mesmo que ' eu como o que vejo\n",
      "--------------------------------------------------------------------------------\n",
      "    SOURCE: 'I can't explain myself, I'm afraid, sir' said Alice, 'because I'm not myself, you see.'\n",
      "    TARGET: 'Receio que não posso me explicar, senhor', disse Alice, 'porque eu não sou eu mesma, você vê.'\n",
      " PREDICTED: ' Receio que não posso me explicar , senhor ', disse Alice , ' porque eu não sou eu mesma , você vê .'\n",
      "--------------------------------------------------------------------------------\n"
     ]
    },
    {
     "name": "stderr",
     "output_type": "stream",
     "text": [
      "Processing  Epoch 103: 100%|██████████| 158/158 [00:39<00:00,  4.01it/s, loss=1.161]\n",
      "stty: 'standard input': Inappropriate ioctl for device\n"
     ]
    },
    {
     "name": "stdout",
     "output_type": "stream",
     "text": [
      "--------------------------------------------------------------------------------\n",
      "    SOURCE: Pat!\n",
      "    TARGET: Pat!\n",
      " PREDICTED: Pat !\n",
      "--------------------------------------------------------------------------------\n",
      "    SOURCE: And then a voice she had never heard before, 'Sure then I'm here!\n",
      "    TARGET: E então uma voz que ela nunca tinha ouvido, 'Sem dúvida estou aqui agora!\n",
      " PREDICTED: E então uma voz que ela nunca tinha ouvido , ' Sem dúvida estou aqui agora !\n",
      "--------------------------------------------------------------------------------\n"
     ]
    },
    {
     "name": "stderr",
     "output_type": "stream",
     "text": [
      "Processing  Epoch 104: 100%|██████████| 158/158 [00:39<00:00,  4.01it/s, loss=1.151]\n",
      "stty: 'standard input': Inappropriate ioctl for device\n"
     ]
    },
    {
     "name": "stdout",
     "output_type": "stream",
     "text": [
      "--------------------------------------------------------------------------------\n",
      "    SOURCE: 'How queer it seems,' Alice said to herself, 'to be going messages for a rabbit!\n",
      "    TARGET: 'Que estranho parece,' disse Alice para si mesma, 'estar recebendo ordens de um coelho!\n",
      " PREDICTED: ' Que estranho parece ,' disse Alice para si mesma , ' estar ordens de um coelho !\n",
      "--------------------------------------------------------------------------------\n",
      "    SOURCE: CHAPTER VIII The Queen's Croquet-Ground\n",
      "    TARGET: Capítulo VIII O Campo de cróquete da Rainha\n",
      " PREDICTED: Capítulo O de cróquete da Rainha\n",
      "--------------------------------------------------------------------------------\n"
     ]
    },
    {
     "name": "stderr",
     "output_type": "stream",
     "text": [
      "Processing  Epoch 105: 100%|██████████| 158/158 [00:39<00:00,  4.00it/s, loss=1.163]\n",
      "stty: 'standard input': Inappropriate ioctl for device\n"
     ]
    },
    {
     "name": "stdout",
     "output_type": "stream",
     "text": [
      "--------------------------------------------------------------------------------\n",
      "    SOURCE: 'I wish you wouldn't squeeze so.' said the Dormouse, who was sitting next to her.\n",
      "    TARGET: \"Espero que você não espirre então\", disse o Arganaz, que estava próximo a ela.\n",
      " PREDICTED: \" Espero que você não então \", disse o Arganaz , que estava próximo a ela .\n",
      "--------------------------------------------------------------------------------\n",
      "    SOURCE: Alice kept her eyes anxiously fixed on it, for she felt sure she would catch a bad cold if she did not get dry very soon.\n",
      "    TARGET: Alice manteve ansiosamente os olhos fixados nele, pois ela tinha certeza de que pegaria um forte resfriado se não ficasse logo seca.\n",
      " PREDICTED: Alice ansiosamente os olhos nele , pois ela tinha certeza de que um se não logo seca .\n",
      "--------------------------------------------------------------------------------\n"
     ]
    },
    {
     "name": "stderr",
     "output_type": "stream",
     "text": [
      "Processing  Epoch 106: 100%|██████████| 158/158 [00:39<00:00,  4.00it/s, loss=1.150]\n",
      "stty: 'standard input': Inappropriate ioctl for device\n"
     ]
    },
    {
     "name": "stdout",
     "output_type": "stream",
     "text": [
      "--------------------------------------------------------------------------------\n",
      "    SOURCE: 'What is the fun?' said Alice.\n",
      "    TARGET: \"Qual é a graça?\" disse Alice.\n",
      " PREDICTED: \" Qual é a ?\" disse Alice .\n",
      "--------------------------------------------------------------------------------\n",
      "    SOURCE: I almost think I can remember feeling a little different.\n",
      "    TARGET: Eu acho que quase posso me lembrar de ter me sentido um pouco diferente.\n",
      " PREDICTED: Eu acho que quase posso me lembrar de ter me sentido um pouco diferente .\n",
      "--------------------------------------------------------------------------------\n"
     ]
    },
    {
     "name": "stderr",
     "output_type": "stream",
     "text": [
      "Processing  Epoch 107: 100%|██████████| 158/158 [00:39<00:00,  4.00it/s, loss=1.161]\n",
      "stty: 'standard input': Inappropriate ioctl for device\n"
     ]
    },
    {
     "name": "stdout",
     "output_type": "stream",
     "text": [
      "--------------------------------------------------------------------------------\n",
      "    SOURCE: So she went in search of her hedgehog.\n",
      "    TARGET: Então ela foi em busca do seu ouriço.\n",
      " PREDICTED: Então ela foi em busca do seu ouriço .\n",
      "--------------------------------------------------------------------------------\n",
      "    SOURCE: 'Treacle,' said a sleepy voice behind her.\n",
      "    TARGET: \"Melado\", disse uma voz sonolenta atrás dela.\n",
      " PREDICTED: \" \", disse uma voz sonolenta atrás dela .\n",
      "--------------------------------------------------------------------------------\n"
     ]
    },
    {
     "name": "stderr",
     "output_type": "stream",
     "text": [
      "Processing  Epoch 108: 100%|██████████| 158/158 [00:39<00:00,  3.99it/s, loss=1.167]\n",
      "stty: 'standard input': Inappropriate ioctl for device\n"
     ]
    },
    {
     "name": "stdout",
     "output_type": "stream",
     "text": [
      "--------------------------------------------------------------------------------\n",
      "    SOURCE: 'There might be some sense in your knocking,' the Footman went on without attending to her, 'if we had the door between us.\n",
      "    TARGET: \"Haveria algum sentido em sua batida,\" o Lacaio continuou sem prestar atenção a ela, \"se nós tivéssemos a porta entre nós.\n",
      " PREDICTED: \" algum sentido em sua ,\" o Lacaio continuou sem atenção a ela , \" se nós tivéssemos a porta entre nós .\n",
      "--------------------------------------------------------------------------------\n",
      "    SOURCE: 'Do I look like it?' he said.\n",
      "    TARGET: \"Parece que consigo?\" disse ele.\n",
      " PREDICTED: \" Parece que consigo ?\" disse ele .\n",
      "--------------------------------------------------------------------------------\n"
     ]
    },
    {
     "name": "stderr",
     "output_type": "stream",
     "text": [
      "Processing  Epoch 109: 100%|██████████| 158/158 [00:39<00:00,  4.00it/s, loss=1.182]\n",
      "stty: 'standard input': Inappropriate ioctl for device\n"
     ]
    },
    {
     "name": "stdout",
     "output_type": "stream",
     "text": [
      "--------------------------------------------------------------------------------\n",
      "    SOURCE: 'That you won't' thought Alice, and, after waiting till she fancied she heard the Rabbit just under the window, she suddenly spread out her hand, and made a snatch in the air.\n",
      "    TARGET: 'Isto você não vai' pensou Alice, e, depois de esperar até ela imaginar ouvir o Coelho logo embaixo da janela, ela subitamente estendeu a mão para fora e tentou agarrar no ar.\n",
      " PREDICTED: ' Isto você não vai ' pensou Alice , e , depois de esperar até ela imaginar ouvir o Coelho logo embaixo da janela , ela subitamente estendeu a mão para fora e tentou agarrar no ar .\n",
      "--------------------------------------------------------------------------------\n",
      "    SOURCE: 'But what happens when you come to the beginning again?' Alice ventured to ask.\n",
      "    TARGET: \"Mas o que acontece quando dão a volta toda e voltam ao princípio?\", atreveu-se Alice a perguntar.\n",
      " PREDICTED: \" Mas o que acontece quando dão a volta toda e ao princípio ?\", atreveu - se Alice a perguntar .\n",
      "--------------------------------------------------------------------------------\n"
     ]
    },
    {
     "name": "stderr",
     "output_type": "stream",
     "text": [
      "Processing  Epoch 110: 100%|██████████| 158/158 [00:39<00:00,  4.00it/s, loss=1.162]\n",
      "stty: 'standard input': Inappropriate ioctl for device\n"
     ]
    },
    {
     "name": "stdout",
     "output_type": "stream",
     "text": [
      "--------------------------------------------------------------------------------\n",
      "    SOURCE: He looked at the Gryphon as if he thought it had some kind of authority over Alice.\n",
      "    TARGET: Ele olho para o Grifo como se ele tivesse algum tipo de autoridade sobre Alice.\n",
      " PREDICTED: Ele olho para o Grifo como se ele tivesse algum tipo de autoridade sobre Alice .\n",
      "--------------------------------------------------------------------------------\n",
      "    SOURCE: 'Don't be impertinent,' said the King, 'and don't look at me like that!'\n",
      "    TARGET: \"Não seja impertinente,\" disse o Rei, \"e não olhe para mim assim!\"\n",
      " PREDICTED: \" Não seja ,\" disse o Rei , \" e não olhe para mim assim !\"\n",
      "--------------------------------------------------------------------------------\n"
     ]
    },
    {
     "name": "stderr",
     "output_type": "stream",
     "text": [
      "Processing  Epoch 111: 100%|██████████| 158/158 [00:39<00:00,  4.00it/s, loss=1.192]\n",
      "stty: 'standard input': Inappropriate ioctl for device\n"
     ]
    },
    {
     "name": "stdout",
     "output_type": "stream",
     "text": [
      "--------------------------------------------------------------------------------\n",
      "    SOURCE: Alice said; but was dreadfully puzzled by the whole thing, and longed to change the subject.\n",
      "    TARGET: Alice disse, mas estava extremamente intrigada com tudo e desejava mudar o assunto.\n",
      " PREDICTED: Alice disse , mas estava extremamente intrigada com tudo e desejava mudar o assunto .\n",
      "--------------------------------------------------------------------------------\n",
      "    SOURCE: (Alice had no idea what Latitude was, or Longitude either, but thought they were nice grand words to say.)\n",
      "    TARGET: (Alice não tinha idéia do que era Latitude ou Longitude, mas achou que essas eram boas palavras grandes para se falar.)\n",
      " PREDICTED: ( Alice não tinha idéia do que era Latitude ou Longitude , mas achou que essas eram boas palavras grandes para se falar .)\n",
      "--------------------------------------------------------------------------------\n"
     ]
    },
    {
     "name": "stderr",
     "output_type": "stream",
     "text": [
      "Processing  Epoch 112: 100%|██████████| 158/158 [00:39<00:00,  4.02it/s, loss=1.188]\n",
      "stty: 'standard input': Inappropriate ioctl for device\n"
     ]
    },
    {
     "name": "stdout",
     "output_type": "stream",
     "text": [
      "--------------------------------------------------------------------------------\n",
      "    SOURCE: Alice was rather doubtful whether she ought not to lie down on her face like the three gardeners, but she could not remember ever having heard of such a rule at processions; 'and besides, what would be the use of a procession,' thought she, 'if people had all to lie down upon their faces, so that they couldn't see it?'\n",
      "    TARGET: Alice estava bastante em dúvida se deveria ou não permanecer deitada sobre o seu rosto assim como os três jardineiros, mas ela não conseguiu lembrar de alguma vez ter ouvido sobre algum tipo regra em cortejos; \"e além disso, qual seria a utilidade de um cortejo\", pensou ela, \"se as pessoas tivessem todos de deitar sobre o seu rosto, para que não pudessem vê-lo?\"\n",
      " PREDICTED: Alice estava bastante em dúvida se deveria ou não permanecer deitada sobre o seu rosto assim como os três jardineiros , mas ela não conseguiu lembrar de alguma vez ter ouvido sobre algum tipo regra em ; \" e além disso , qual seria a utilidade de um cortejo \", pensou ela , \" se as pessoas tivessem todos de deitar sobre o seu rosto , para que não pudessem vê - lo ?\"\n",
      "--------------------------------------------------------------------------------\n",
      "    SOURCE: However, everything is queer to-day.'\n",
      "    TARGET: Entretanto, tudo está estranho hoje!\"\n",
      " PREDICTED: Entretanto , tudo está estranho hoje !\"\n",
      "--------------------------------------------------------------------------------\n"
     ]
    },
    {
     "name": "stderr",
     "output_type": "stream",
     "text": [
      "Processing  Epoch 113: 100%|██████████| 158/158 [00:39<00:00,  4.02it/s, loss=1.149]\n",
      "stty: 'standard input': Inappropriate ioctl for device\n"
     ]
    },
    {
     "name": "stdout",
     "output_type": "stream",
     "text": [
      "--------------------------------------------------------------------------------\n",
      "    SOURCE: 'Of course you don't!' the Hatter said, tossing his head contemptuously.\n",
      "    TARGET: \"Evidente que não!\" disse o Chapeleiro com ar de desdém.\n",
      " PREDICTED: \" que não !\" disse o Chapeleiro com ar de .\n",
      "--------------------------------------------------------------------------------\n",
      "    SOURCE: 'Or would you like the Mock Turtle to sing you a song?'\n",
      "    TARGET: \"Ou você gostaria que a Tartaruga Falsa cantesse uma canção?\"\n",
      " PREDICTED: \" Ou você gostaria que a Tartaruga Falsa uma canção ?\"\n",
      "--------------------------------------------------------------------------------\n"
     ]
    },
    {
     "name": "stderr",
     "output_type": "stream",
     "text": [
      "Processing  Epoch 114: 100%|██████████| 158/158 [00:39<00:00,  4.02it/s, loss=1.156]\n",
      "stty: 'standard input': Inappropriate ioctl for device\n"
     ]
    },
    {
     "name": "stdout",
     "output_type": "stream",
     "text": [
      "--------------------------------------------------------------------------------\n",
      "    SOURCE: Indeed, she had quite a long argument with the Lory, who at last turned sulky, and would only say, 'I am older than you, and must know better'; and this Alice would not allow without knowing how old it was, and, as the Lory positively refused to tell its age, there was no more to be said.\n",
      "    TARGET: De fato, ela teve uma discussão bastante longa com o Papagaio, que no final ficou emburrado, e só dizia 'Eu sou mais velho que você, devo saber mais'; e isso Alice não permitiria sem saber quantos anos ele tinha e, como o Papagaio recusou-se a dizer sua idade, não havia mais nada a dizer.\n",
      " PREDICTED: De fato , ela teve uma discussão bastante longa com o Papagaio , que no final ficou emburrado , e só dizia ' Eu sou mais velho que você , devo saber mais '; e isso Alice não sem saber anos ele tinha e , como o Papagaio - se a dizer sua idade , não havia mais nada a dizer .\n",
      "--------------------------------------------------------------------------------\n",
      "    SOURCE: Come on!'\n",
      "    TARGET: Vamos!\"\n",
      " PREDICTED: Vamos !\"\n",
      "--------------------------------------------------------------------------------\n"
     ]
    },
    {
     "name": "stderr",
     "output_type": "stream",
     "text": [
      "Processing  Epoch 115: 100%|██████████| 158/158 [00:39<00:00,  4.03it/s, loss=1.155]\n",
      "stty: 'standard input': Inappropriate ioctl for device\n"
     ]
    },
    {
     "name": "stdout",
     "output_type": "stream",
     "text": [
      "--------------------------------------------------------------------------------\n",
      "    SOURCE: CHAPTER VIII The Queen's Croquet-Ground\n",
      "    TARGET: Capítulo VIII O Campo de cróquete da Rainha\n",
      " PREDICTED: Capítulo O de cróquete da Rainha\n",
      "--------------------------------------------------------------------------------\n",
      "    SOURCE: On various pretexts they all moved off, and Alice was soon left alone.\n",
      "    TARGET: Sob vários pretextos eles saíram, e logo Alice ficou sozinha.\n",
      " PREDICTED: eles saíram , e logo Alice ficou sozinha .\n",
      "--------------------------------------------------------------------------------\n"
     ]
    },
    {
     "name": "stderr",
     "output_type": "stream",
     "text": [
      "Processing  Epoch 116: 100%|██████████| 158/158 [00:39<00:00,  4.03it/s, loss=1.140]\n",
      "stty: 'standard input': Inappropriate ioctl for device\n"
     ]
    },
    {
     "name": "stdout",
     "output_type": "stream",
     "text": [
      "--------------------------------------------------------------------------------\n",
      "    SOURCE: Alice replied in a very melancholy voice.\n",
      "    TARGET: Alice respondeu com um tom de voz muito melancólico.\n",
      " PREDICTED: Alice respondeu com um tom de voz muito melancólico .\n",
      "--------------------------------------------------------------------------------\n",
      "    SOURCE: He only does it to annoy,\n",
      "    TARGET: Ele apenas faz para irritar,\n",
      " PREDICTED: Ele apenas faz para ,\n",
      "--------------------------------------------------------------------------------\n"
     ]
    },
    {
     "name": "stderr",
     "output_type": "stream",
     "text": [
      "Processing  Epoch 117: 100%|██████████| 158/158 [00:39<00:00,  4.03it/s, loss=1.142]\n",
      "stty: 'standard input': Inappropriate ioctl for device\n"
     ]
    },
    {
     "name": "stdout",
     "output_type": "stream",
     "text": [
      "--------------------------------------------------------------------------------\n",
      "    SOURCE: 'Well, perhaps your feelings may be different,' said Alice; 'all I know is, it would feel very queer to me.'\n",
      "    TARGET: 'Bem, talvez seus sentimentos sejam diferentes', disse Alice; 'tudo que sei é que seria muito estranho para mim.'\n",
      " PREDICTED: ' Bem , talvez seus sentimentos sejam diferentes ', disse Alice ; ' tudo que sei é que seria muito estranho para mim .'\n",
      "--------------------------------------------------------------------------------\n",
      "    SOURCE: 'An arm, you goose!\n",
      "    TARGET: 'Um braço, seu tolo!\n",
      " PREDICTED: ' Um braço , seu tolo !\n",
      "--------------------------------------------------------------------------------\n"
     ]
    },
    {
     "name": "stderr",
     "output_type": "stream",
     "text": [
      "Processing  Epoch 118: 100%|██████████| 158/158 [00:39<00:00,  4.04it/s, loss=1.155]\n",
      "stty: 'standard input': Inappropriate ioctl for device\n"
     ]
    },
    {
     "name": "stdout",
     "output_type": "stream",
     "text": [
      "--------------------------------------------------------------------------------\n",
      "    SOURCE: At this moment the door of the house opened, and a large plate came skimming out, straight at the Footman's head: it just grazed his nose, and broke to pieces against one of the trees behind him.\n",
      "    TARGET: Neste momento a porta da casa se abriu, e um grande prato saiu deslizando, diretamente na cabeça do Lacaio: apenas roçando seu nariz, e quebrou se em pedaços contra uma das árvores atrás dele.\n",
      " PREDICTED: Neste momento a porta da casa se abriu , e um grande prato saiu , na cabeça do Lacaio : apenas seu nariz , e se em pedaços contra uma das árvores atrás dele .\n",
      "--------------------------------------------------------------------------------\n",
      "    SOURCE: By the time she had caught the flamingo and brought it back, the fight was over, and both the hedgehogs were out of sight: 'but it doesn't matter much,' thought Alice, 'as all the arches are gone from this side of the ground.'\n",
      "    TARGET: Quando ela apanhou o flamingo e o trouxe de volta, a luta tinha acabado e ambos os ouriços estavam fora de vista: \"mas isso não importava muito\", pensou Alice, \"uma vez que todos os arcos tinham partido deste lado do campo\".\n",
      " PREDICTED: Quando ela apanhou o flamingo e o trouxe de volta , a luta tinha acabado e ambos os ouriços estavam fora de vista : \" mas isso não importava muito \", pensou Alice , \" uma vez que todos os arcos tinham deste lado do campo \".\n",
      "--------------------------------------------------------------------------------\n"
     ]
    },
    {
     "name": "stderr",
     "output_type": "stream",
     "text": [
      "Processing  Epoch 119: 100%|██████████| 158/158 [00:39<00:00,  4.04it/s, loss=1.150]\n",
      "stty: 'standard input': Inappropriate ioctl for device\n"
     ]
    },
    {
     "name": "stdout",
     "output_type": "stream",
     "text": [
      "--------------------------------------------------------------------------------\n",
      "    SOURCE: (Alice had no idea what Latitude was, or Longitude either, but thought they were nice grand words to say.)\n",
      "    TARGET: (Alice não tinha idéia do que era Latitude ou Longitude, mas achou que essas eram boas palavras grandes para se falar.)\n",
      " PREDICTED: ( Alice não tinha idéia do que era Latitude ou Longitude , mas achou que essas eram boas palavras grandes para se falar .)\n",
      "--------------------------------------------------------------------------------\n",
      "    SOURCE: Alice said; but was dreadfully puzzled by the whole thing, and longed to change the subject.\n",
      "    TARGET: Alice disse, mas estava extremamente intrigada com tudo e desejava mudar o assunto.\n",
      " PREDICTED: Alice disse , mas estava extremamente intrigada com tudo e desejava mudar o assunto .\n",
      "--------------------------------------------------------------------------------\n"
     ]
    },
    {
     "name": "stderr",
     "output_type": "stream",
     "text": [
      "Processing  Epoch 120: 100%|██████████| 158/158 [00:39<00:00,  4.03it/s, loss=1.137]\n",
      "stty: 'standard input': Inappropriate ioctl for device\n"
     ]
    },
    {
     "name": "stdout",
     "output_type": "stream",
     "text": [
      "--------------------------------------------------------------------------------\n",
      "    SOURCE: 'You might just as well say that \"I see what I eat\" is the same thing as \"I eat what I see\"!'\n",
      "    TARGET: \"Seria o mesmo que dizer que 'eu vejo o que como' é o mesmo que 'eu como o que vejo'!\n",
      " PREDICTED: ' o mesmo que dizer que ' eu vejo o que como ' é o mesmo que ' eu como o que vejo\n",
      "--------------------------------------------------------------------------------\n",
      "    SOURCE: 'Then you keep moving round, I suppose?' said Alice.\n",
      "    TARGET: \"Então continuam a rodar?\" disse Alice.\n",
      " PREDICTED: \" Então continuam a ?\" disse Alice .\n",
      "--------------------------------------------------------------------------------\n"
     ]
    },
    {
     "name": "stderr",
     "output_type": "stream",
     "text": [
      "Processing  Epoch 121: 100%|██████████| 158/158 [00:39<00:00,  4.03it/s, loss=1.143]\n",
      "stty: 'standard input': Inappropriate ioctl for device\n"
     ]
    },
    {
     "name": "stdout",
     "output_type": "stream",
     "text": [
      "--------------------------------------------------------------------------------\n",
      "    SOURCE: Alice looked all round her at the flowers and the blades of grass, but she did not see anything that looked like the right thing to eat or drink under the circumstances.\n",
      "    TARGET: Alice olhou em volta dela para as flores e folhas de relva, mas ela viu não nada que parecesse com a coisa certa a comer ou beber em tais circunstâncias.\n",
      " PREDICTED: Alice olhou em volta dela para as flores e folhas de , mas ela viu não nada que com a coisa certa a comer ou beber em tais .\n",
      "--------------------------------------------------------------------------------\n",
      "    SOURCE: I almost think I can remember feeling a little different.\n",
      "    TARGET: Eu acho que quase posso me lembrar de ter me sentido um pouco diferente.\n",
      " PREDICTED: Eu acho que quase posso me lembrar de ter me sentido um pouco diferente .\n",
      "--------------------------------------------------------------------------------\n"
     ]
    },
    {
     "name": "stderr",
     "output_type": "stream",
     "text": [
      "Processing  Epoch 122: 100%|██████████| 158/158 [00:39<00:00,  4.04it/s, loss=1.143]\n",
      "stty: 'standard input': Inappropriate ioctl for device\n"
     ]
    },
    {
     "name": "stdout",
     "output_type": "stream",
     "text": [
      "--------------------------------------------------------------------------------\n",
      "    SOURCE: Beau--ootiful Soo--oop!\n",
      "    TARGET: Be...la So..pa!\n",
      " PREDICTED: Be ... la So .. pa !\n",
      "--------------------------------------------------------------------------------\n",
      "    SOURCE: So she went in search of her hedgehog.\n",
      "    TARGET: Então ela foi em busca do seu ouriço.\n",
      " PREDICTED: Então ela foi em busca do seu ouriço .\n",
      "--------------------------------------------------------------------------------\n"
     ]
    },
    {
     "name": "stderr",
     "output_type": "stream",
     "text": [
      "Processing  Epoch 123: 100%|██████████| 158/158 [00:39<00:00,  4.05it/s, loss=1.154]\n",
      "stty: 'standard input': Inappropriate ioctl for device\n"
     ]
    },
    {
     "name": "stdout",
     "output_type": "stream",
     "text": [
      "--------------------------------------------------------------------------------\n",
      "    SOURCE: 'Now tell me, Pat, what's that in the window?'\n",
      "    TARGET: 'Agora diga-me, Pat, o que é aquilo na janela?'\n",
      " PREDICTED: ' Agora diga - me , Pat , o que é aquilo na janela ?'\n",
      "--------------------------------------------------------------------------------\n",
      "    SOURCE: Beau--ootiful Soo--oop!\n",
      "    TARGET: Be...la So..pa!\n",
      " PREDICTED: Be ... la So .. pa !\n",
      "--------------------------------------------------------------------------------\n"
     ]
    },
    {
     "name": "stderr",
     "output_type": "stream",
     "text": [
      "Processing  Epoch 124: 100%|██████████| 158/158 [00:39<00:00,  4.03it/s, loss=1.145]\n",
      "stty: 'standard input': Inappropriate ioctl for device\n"
     ]
    },
    {
     "name": "stdout",
     "output_type": "stream",
     "text": [
      "--------------------------------------------------------------------------------\n",
      "    SOURCE: So she went in search of her hedgehog.\n",
      "    TARGET: Então ela foi em busca do seu ouriço.\n",
      " PREDICTED: Então ela foi em busca do seu ouriço .\n",
      "--------------------------------------------------------------------------------\n",
      "    SOURCE: He only does it to annoy,\n",
      "    TARGET: Ele apenas faz para irritar,\n",
      " PREDICTED: Ele apenas faz para ,\n",
      "--------------------------------------------------------------------------------\n"
     ]
    },
    {
     "name": "stderr",
     "output_type": "stream",
     "text": [
      "Processing  Epoch 125: 100%|██████████| 158/158 [00:39<00:00,  4.04it/s, loss=1.147]\n",
      "stty: 'standard input': Inappropriate ioctl for device\n"
     ]
    },
    {
     "name": "stdout",
     "output_type": "stream",
     "text": [
      "--------------------------------------------------------------------------------\n",
      "    SOURCE: They had not gone far before they saw the Mock Turtle in the distance, sitting sad and lonely on a little ledge of rock, and, as they came nearer, Alice could hear him sighing as if his heart would break.\n",
      "    TARGET: Eles não tinham ido longe antes de ver a Tartaruga Falsa à distância, sentada triste e sozinha em um pequena peitoril de pedra, e, conforme chegavam perto, Alice podia ouvi-lo suspirando como se seu coração fosse partir.\n",
      " PREDICTED: Eles não tinham ido longe antes de ver a Tartaruga Falsa à distância , sentada triste e sozinha em um pequena de , e , conforme perto , Alice podia ouvi - lo suspirando como se seu coração fosse partir .\n",
      "--------------------------------------------------------------------------------\n",
      "    SOURCE: I only wish people knew that: then they wouldn't be so stingy about it, you know--'\n",
      "    TARGET: Eu apenas desejava que as pessoas soubessem isso: então elas não seriam tão mesquinhas, sabes...\"\n",
      " PREDICTED: Eu apenas desejava que as pessoas isso : então elas não seriam tão , ...\"\n",
      "--------------------------------------------------------------------------------\n"
     ]
    },
    {
     "name": "stderr",
     "output_type": "stream",
     "text": [
      "Processing  Epoch 126: 100%|██████████| 158/158 [00:39<00:00,  4.03it/s, loss=1.166]\n",
      "stty: 'standard input': Inappropriate ioctl for device\n"
     ]
    },
    {
     "name": "stdout",
     "output_type": "stream",
     "text": [
      "--------------------------------------------------------------------------------\n",
      "    SOURCE: She was a little nervous about it just at first, the two creatures got so close to her, one on each side, and opened their eyes and mouths so very wide, but she gained courage as she went on.\n",
      "    TARGET: Ela estava um pouco nervosa sobre isto inicialmente, as duas criaturas estavam tão perto dela, uma de cada lado, e abriram seus olhos e bocas totalmente, mas ela teve coragem e continuou.\n",
      " PREDICTED: Ela estava um pouco nervosa sobre isto inicialmente , as duas criaturas estavam tão perto dela , uma de cada lado , e abriram seus olhos e bocas totalmente , mas ela teve coragem e continuou .\n",
      "--------------------------------------------------------------------------------\n",
      "    SOURCE: 'Do I look like it?' he said.\n",
      "    TARGET: \"Parece que consigo?\" disse ele.\n",
      " PREDICTED: \" Parece que consigo ?\" disse ele .\n",
      "--------------------------------------------------------------------------------\n"
     ]
    },
    {
     "name": "stderr",
     "output_type": "stream",
     "text": [
      "Processing  Epoch 127: 100%|██████████| 158/158 [00:39<00:00,  4.03it/s, loss=1.185]\n",
      "stty: 'standard input': Inappropriate ioctl for device\n"
     ]
    },
    {
     "name": "stdout",
     "output_type": "stream",
     "text": [
      "--------------------------------------------------------------------------------\n",
      "    SOURCE: 'Not at all,' said Alice: 'she's so extremely--' Just then she noticed that the Queen was close behind her, listening: so she went on, '--likely to win, that it's hardly worth while finishing the game.'\n",
      "    TARGET: \"De modo algum\", disse Alice: ela é tão extrema -- \"então ela apercebeu-se que a Rainha estava perto atrás dela, ouvindo: então ela continuou, '--e e provável que ganhe, que mal vale a pena acabar o jogo.\"\n",
      " PREDICTED: \" De modo algum \", disse Alice : ela é tão -- \" então ela apercebeu - se que a Rainha estava perto atrás dela , : então ela continuou , '-- e e e provável que , que mal vale a pena acabar o jogo .\"\n",
      "--------------------------------------------------------------------------------\n",
      "    SOURCE: 'Then you keep moving round, I suppose?' said Alice.\n",
      "    TARGET: \"Então continuam a rodar?\" disse Alice.\n",
      " PREDICTED: \" Então continuam a ?\" disse Alice .\n",
      "--------------------------------------------------------------------------------\n"
     ]
    },
    {
     "name": "stderr",
     "output_type": "stream",
     "text": [
      "Processing  Epoch 128: 100%|██████████| 158/158 [00:39<00:00,  4.03it/s, loss=1.142]\n",
      "stty: 'standard input': Inappropriate ioctl for device\n"
     ]
    },
    {
     "name": "stdout",
     "output_type": "stream",
     "text": [
      "--------------------------------------------------------------------------------\n",
      "    SOURCE: Come on!'\n",
      "    TARGET: Vamos!\"\n",
      " PREDICTED: Vamos !\"\n",
      "--------------------------------------------------------------------------------\n",
      "    SOURCE: But here, to Alice's great surprise, the Duchess's voice died away, even in the middle of her favourite word 'moral,' and the arm that was linked into hers began to tremble.\n",
      "    TARGET: Mas aqui, para grande surpresa de Alice, a voz da duquesa começou a sumir, mesmo no meio da sua palavra favorita \"moral\", e o braço que estava ligado entre ambas começou a tremer.\n",
      " PREDICTED: Mas aqui , para Alice , a voz da duquesa , \" moral disso é : o braço da sua palavra e o braço de Alice , para si mesma ' Mas a Rainha .\n",
      "--------------------------------------------------------------------------------\n"
     ]
    },
    {
     "name": "stderr",
     "output_type": "stream",
     "text": [
      "Processing  Epoch 129: 100%|██████████| 158/158 [00:39<00:00,  4.03it/s, loss=1.173]\n",
      "stty: 'standard input': Inappropriate ioctl for device\n"
     ]
    },
    {
     "name": "stdout",
     "output_type": "stream",
     "text": [
      "--------------------------------------------------------------------------------\n",
      "    SOURCE: Alice looked all round her at the flowers and the blades of grass, but she did not see anything that looked like the right thing to eat or drink under the circumstances.\n",
      "    TARGET: Alice olhou em volta dela para as flores e folhas de relva, mas ela viu não nada que parecesse com a coisa certa a comer ou beber em tais circunstâncias.\n",
      " PREDICTED: Alice olhou em volta dela para as flores e folhas de , mas ela viu não nada que com a coisa certa a comer ou beber em tais .\n",
      "--------------------------------------------------------------------------------\n",
      "    SOURCE: 'I'd rather not,' the Cat remarked.\n",
      "    TARGET: \"É melhor não,\" o Gato advertiu.\n",
      " PREDICTED: \" É melhor não ,\" o Gato advertiu .\n",
      "--------------------------------------------------------------------------------\n"
     ]
    },
    {
     "name": "stderr",
     "output_type": "stream",
     "text": [
      "Processing  Epoch 130: 100%|██████████| 158/158 [00:39<00:00,  4.03it/s, loss=1.181]\n",
      "stty: 'standard input': Inappropriate ioctl for device\n"
     ]
    },
    {
     "name": "stdout",
     "output_type": "stream",
     "text": [
      "--------------------------------------------------------------------------------\n",
      "    SOURCE: The further off from England the nearer is to France-- Then turn not pale, beloved snail, but come and join the dance.\n",
      "    TARGET: Quanto mais distante da Inglaterra mais próximo é da França... Então não fique pálido, querida enchova, mas venha e se junte a dança.\n",
      " PREDICTED: Quanto mais da mais próximo é da ... Então não fique pálido , querida enchova , mas venha e se a dança .\n",
      "--------------------------------------------------------------------------------\n",
      "    SOURCE: 'That depends a good deal on where you want to get to,' said the Cat.\n",
      "    TARGET: \"Isso depende muito de para onde você quer ir,\" disse o Gato.\n",
      " PREDICTED: \" Isso muito de para onde você quer ir ,\" disse o Gato .\n",
      "--------------------------------------------------------------------------------\n"
     ]
    },
    {
     "name": "stderr",
     "output_type": "stream",
     "text": [
      "Processing  Epoch 131: 100%|██████████| 158/158 [00:39<00:00,  4.02it/s, loss=1.143]\n",
      "stty: 'standard input': Inappropriate ioctl for device\n"
     ]
    },
    {
     "name": "stdout",
     "output_type": "stream",
     "text": [
      "--------------------------------------------------------------------------------\n",
      "    SOURCE: Alice did not quite know what to say to this: so she helped herself to some tea and bread-and-butter, and then turned to the Dormouse, and repeated her question.\n",
      "    TARGET: Alice não sabia bem o que dizer: portanto serviu-se de algum chá e pão com manteiga, e depois virou-se para o Arganaz e repetiu a pergunta.\n",
      " PREDICTED: Alice não sei o que dizer : portanto nunca tinha algum tempo de deixar de ser muito , e o assunto na prisão e o que pode ser - lo .\n",
      "--------------------------------------------------------------------------------\n",
      "    SOURCE: 'Not at all,' said Alice: 'she's so extremely--' Just then she noticed that the Queen was close behind her, listening: so she went on, '--likely to win, that it's hardly worth while finishing the game.'\n",
      "    TARGET: \"De modo algum\", disse Alice: ela é tão extrema -- \"então ela apercebeu-se que a Rainha estava perto atrás dela, ouvindo: então ela continuou, '--e e provável que ganhe, que mal vale a pena acabar o jogo.\"\n",
      " PREDICTED: \" De modo algum \", disse Alice : \" ela é tão -- \" então ela apercebeu - se que a Rainha estava perto atrás dela , : então ela continuou , '-- e e e provável que , que mal vale a pena acabar o jogo .\"\n",
      "--------------------------------------------------------------------------------\n"
     ]
    },
    {
     "name": "stderr",
     "output_type": "stream",
     "text": [
      "Processing  Epoch 132: 100%|██████████| 158/158 [00:39<00:00,  4.01it/s, loss=1.153]\n",
      "stty: 'standard input': Inappropriate ioctl for device\n"
     ]
    },
    {
     "name": "stdout",
     "output_type": "stream",
     "text": [
      "--------------------------------------------------------------------------------\n",
      "    SOURCE: 'I wish you wouldn't squeeze so.' said the Dormouse, who was sitting next to her.\n",
      "    TARGET: \"Espero que você não espirre então\", disse o Arganaz, que estava próximo a ela.\n",
      " PREDICTED: \" Como eu queria não ter Diná ,\" disse o Arganaz , que estava próximo a ela .\n",
      "--------------------------------------------------------------------------------\n",
      "    SOURCE: 'Not at all,' said Alice: 'she's so extremely--' Just then she noticed that the Queen was close behind her, listening: so she went on, '--likely to win, that it's hardly worth while finishing the game.'\n",
      "    TARGET: \"De modo algum\", disse Alice: ela é tão extrema -- \"então ela apercebeu-se que a Rainha estava perto atrás dela, ouvindo: então ela continuou, '--e e provável que ganhe, que mal vale a pena acabar o jogo.\"\n",
      " PREDICTED: \" De modo algum \", disse Alice : \" ela é tão -- então ela apercebeu - se que a Rainha estava perto atrás dela , : então ela continuou , '-- e e provável que , que mal vale a pena acabar o jogo .\"\n",
      "--------------------------------------------------------------------------------\n"
     ]
    },
    {
     "name": "stderr",
     "output_type": "stream",
     "text": [
      "Processing  Epoch 133: 100%|██████████| 158/158 [00:39<00:00,  4.00it/s, loss=1.177]\n",
      "stty: 'standard input': Inappropriate ioctl for device\n"
     ]
    },
    {
     "name": "stdout",
     "output_type": "stream",
     "text": [
      "--------------------------------------------------------------------------------\n",
      "    SOURCE: She hastily put down the bottle, saying to herself 'That's quite enough--I hope I shan't grow any more--As it is, I can't get out at the door--I do wish I hadn't drunk quite so much!'\n",
      "    TARGET: Ela soltou a garrafa apressadamente, dizendo para si mesma 'É o suficiente -- Espero não crescer mais -- Como estou, eu não posso sair pela porta -- Eu realmente gostaria de não ter bebido tanto!'\n",
      " PREDICTED: Ela a garrafa apressadamente , dizendo para si mesma ' É o suficiente -- Como estou não crescer mais -- Como estou , eu não posso sair pela porta -- Eu realmente gostaria de não ter sido mudada várias vezes desde então '.\n",
      "--------------------------------------------------------------------------------\n",
      "    SOURCE: 'I don't much care where--' said Alice.\n",
      "    TARGET: \"Eu não me importo muito para onde--\" disse Alice.\n",
      " PREDICTED: \" Eu não me importo muito para onde --\" disse Alice .\n",
      "--------------------------------------------------------------------------------\n"
     ]
    },
    {
     "name": "stderr",
     "output_type": "stream",
     "text": [
      "Processing  Epoch 134: 100%|██████████| 158/158 [00:39<00:00,  4.03it/s, loss=1.134]\n",
      "stty: 'standard input': Inappropriate ioctl for device\n"
     ]
    },
    {
     "name": "stdout",
     "output_type": "stream",
     "text": [
      "--------------------------------------------------------------------------------\n",
      "    SOURCE: 'Take off your hat,' the King said to the Hatter.\n",
      "    TARGET: \"Tire o seu chapéu\", disse o Rei para o Chapeleiro.\n",
      " PREDICTED: \" o seu \", disse o Rei para o Chapeleiro .\n",
      "--------------------------------------------------------------------------------\n",
      "    SOURCE: Alice looked all round her at the flowers and the blades of grass, but she did not see anything that looked like the right thing to eat or drink under the circumstances.\n",
      "    TARGET: Alice olhou em volta dela para as flores e folhas de relva, mas ela viu não nada que parecesse com a coisa certa a comer ou beber em tais circunstâncias.\n",
      " PREDICTED: Alice olhou em volta dela para as flores e folhas de , mas ela viu não nada que com a coisa certa a comer ou beber em tais .\n",
      "--------------------------------------------------------------------------------\n"
     ]
    },
    {
     "name": "stderr",
     "output_type": "stream",
     "text": [
      "Processing  Epoch 135: 100%|██████████| 158/158 [00:39<00:00,  4.01it/s, loss=1.138]\n",
      "stty: 'standard input': Inappropriate ioctl for device\n"
     ]
    },
    {
     "name": "stdout",
     "output_type": "stream",
     "text": [
      "--------------------------------------------------------------------------------\n",
      "    SOURCE: This did not seem to encourage the witness at all: he kept shifting from one foot to the other, looking uneasily at the Queen, and in his confusion he bit a large piece out of his teacup instead of the bread-and-butter.\n",
      "    TARGET: Isto não pareceu encorajar a testemunha de modo algum: ele ficou trocando de um pé para o outro, olhando de modo constrangedor para a Rainha, e nesta confusão ele mordeu um pedaço grande de sua xícara de chá ao invés do pão com manteiga.\n",
      " PREDICTED: Isto não pareceu a testemunha de modo algum : ele ficou de um pé para o outro , olhando de modo para a Rainha , e nesta confusão ele um pedaço grande de sua xícara de chá ao do pão com manteiga .\n",
      "--------------------------------------------------------------------------------\n",
      "    SOURCE: 'There might be some sense in your knocking,' the Footman went on without attending to her, 'if we had the door between us.\n",
      "    TARGET: \"Haveria algum sentido em sua batida,\" o Lacaio continuou sem prestar atenção a ela, \"se nós tivéssemos a porta entre nós.\n",
      " PREDICTED: \" algum sentido em sua ,\" o Lacaio continuou sem atenção a ela , \" se nós íamos a porta entre nós .\n",
      "--------------------------------------------------------------------------------\n"
     ]
    },
    {
     "name": "stderr",
     "output_type": "stream",
     "text": [
      "Processing  Epoch 136: 100%|██████████| 158/158 [00:39<00:00,  4.00it/s, loss=1.152]\n",
      "stty: 'standard input': Inappropriate ioctl for device\n"
     ]
    },
    {
     "name": "stdout",
     "output_type": "stream",
     "text": [
      "--------------------------------------------------------------------------------\n",
      "    SOURCE: There was exactly one a-piece all round.\n",
      "    TARGET: Havia exatamente um para cada.\n",
      " PREDICTED: Havia um grande para uma árvore .\n",
      "--------------------------------------------------------------------------------\n",
      "    SOURCE: The Frog-Footman repeated, in the same solemn tone, only changing the order of the words a little, 'From the Queen.\n",
      "    TARGET: O Lacaio-Rã repetiu, no mesmo tom solene, apenas mudando a ordem das palavras, \"Da Rainha.\n",
      " PREDICTED: O Lacaio - repetiu , no mesmo tom solene , apenas mudando a Rainha . \" Rainha .\n",
      "--------------------------------------------------------------------------------\n"
     ]
    },
    {
     "name": "stderr",
     "output_type": "stream",
     "text": [
      "Processing  Epoch 137: 100%|██████████| 158/158 [00:39<00:00,  4.00it/s, loss=1.137]\n",
      "stty: 'standard input': Inappropriate ioctl for device\n"
     ]
    },
    {
     "name": "stdout",
     "output_type": "stream",
     "text": [
      "--------------------------------------------------------------------------------\n",
      "    SOURCE: He looked anxiously over his shoulder as he spoke, and then raised himself upon tiptoe, put his mouth close to her ear, and whispered 'She's under sentence of execution.'\n",
      "    TARGET: Ele olhou ansiosamente acima do seu ombro enquanto falava, e então elevou-se na ponta dos pés, pos a sua boca perto do ouvido dela, e sussurrou \"Ela esta sob sentença de execução.\"\n",
      " PREDICTED: Ele olhou ansiosamente acima do seu ombro enquanto falava , e então - se na ponta dos pés , a sua boca perto do ouvido dela , e sussurrou \" Ela esta sob sentença de execução .\"\n",
      "--------------------------------------------------------------------------------\n",
      "    SOURCE: 'Same as if he had a bone in his throat,' said the Gryphon: and it set to work shaking him and punching him in the back.\n",
      "    TARGET: \"Como se tivesse um osso em sua garganta\", disse o Grifo: e começou a sacudi-lo e a bater em suas costas.\n",
      " PREDICTED: \" Como se tivesse um em sua garganta \", disse o Grifo : e começou a - lo e a bater em suas costas .\n",
      "--------------------------------------------------------------------------------\n"
     ]
    },
    {
     "name": "stderr",
     "output_type": "stream",
     "text": [
      "Processing  Epoch 138: 100%|██████████| 158/158 [00:39<00:00,  4.01it/s, loss=1.137]\n",
      "stty: 'standard input': Inappropriate ioctl for device\n"
     ]
    },
    {
     "name": "stdout",
     "output_type": "stream",
     "text": [
      "--------------------------------------------------------------------------------\n",
      "    SOURCE: As they walked off together, Alice heard the King say in a low voice, to the company generally, 'You are all pardoned.'\n",
      "    TARGET: Enquanto elas saiam juntas, Alice ouviu o Rei dizer em voz baixa, para toda a companhia, \"todos vocês estão perdoados\".\n",
      " PREDICTED: Enquanto elas juntas , Alice ouviu o Rei dizer em voz baixa , para a Rainha , \" todos vocês estão \".\n",
      "--------------------------------------------------------------------------------\n",
      "    SOURCE: He got behind Alice as he spoke.\n",
      "    TARGET: Ele colocou-se atrás de Alice enquanto falava.\n",
      " PREDICTED: Ele colocou - se atrás de Alice enquanto falava .\n",
      "--------------------------------------------------------------------------------\n"
     ]
    },
    {
     "name": "stderr",
     "output_type": "stream",
     "text": [
      "Processing  Epoch 139: 100%|██████████| 158/158 [00:39<00:00,  4.01it/s, loss=1.122]\n",
      "stty: 'standard input': Inappropriate ioctl for device\n"
     ]
    },
    {
     "name": "stdout",
     "output_type": "stream",
     "text": [
      "--------------------------------------------------------------------------------\n",
      "    SOURCE: The King and Queen of Hearts were seated on their throne when they arrived, with a great crowd assembled about them--all sorts of little birds and beasts, as well as the whole pack of cards: the Knave was standing before them, in chains, with a soldier on each side to guard him; and near the King was the White Rabbit, with a trumpet in one hand, and a scroll of parchment in the other.\n",
      "    TARGET: O Rei e a Rainha de Copas estavam sentados em seus tronos quando eles chegaram, com uma grande multidão reunida com eles... todo tipo de pequenos pássaros e animais, assim como todo o baralho de cartas: o Valete esta de pé na frente deles, acorrentado, com um soldado de cada lado a guardá-lo; e perto do Rei estava o Coelho Branco, com um trompete em uma mão e um rolo de pergaminho na outra.\n",
      " PREDICTED: O Rei e a Rainha de Copas estavam em seus quando eles chegaram , com uma grande multidão com eles ... todo tipo de pequenos pássaros e animais , assim como todo o baralho de cartas : o Valete esta de pé na frente deles , , com um de cada vez que estava perto do Rei estava perto do Rei estava o Rei estava muito abaixo dela , com um e um ; e um de pergaminho na outra .\n",
      "--------------------------------------------------------------------------------\n",
      "    SOURCE: (Alice had no idea what Latitude was, or Longitude either, but thought they were nice grand words to say.)\n",
      "    TARGET: (Alice não tinha idéia do que era Latitude ou Longitude, mas achou que essas eram boas palavras grandes para se falar.)\n",
      " PREDICTED: ( Alice não tinha idéia do que era Latitude ou Longitude , mas achou que essas eram boas palavras grandes para se falar .)\n",
      "--------------------------------------------------------------------------------\n"
     ]
    },
    {
     "name": "stderr",
     "output_type": "stream",
     "text": [
      "Processing  Epoch 140: 100%|██████████| 158/158 [00:39<00:00,  4.00it/s, loss=1.147]\n",
      "stty: 'standard input': Inappropriate ioctl for device\n"
     ]
    },
    {
     "name": "stdout",
     "output_type": "stream",
     "text": [
      "--------------------------------------------------------------------------------\n",
      "    SOURCE: 'I've forgotten the words.'\n",
      "    TARGET: \"Eu esqueci a letra.\"\n",
      " PREDICTED: \" Eu esqueci a letra .\"\n",
      "--------------------------------------------------------------------------------\n",
      "    SOURCE: 'Then, you know,' the Mock Turtle went on, 'you throw the--'\n",
      "    TARGET: \"...mudam as lagostas, e se retiram na mesma ordem\", continuou o Grifo.\n",
      " PREDICTED: \" Então , sabe \", a Tartaruga Falsa continuou , \" você as ...\"\n",
      "--------------------------------------------------------------------------------\n"
     ]
    },
    {
     "name": "stderr",
     "output_type": "stream",
     "text": [
      "Processing  Epoch 141: 100%|██████████| 158/158 [00:39<00:00,  4.00it/s, loss=1.128]\n",
      "stty: 'standard input': Inappropriate ioctl for device\n"
     ]
    },
    {
     "name": "stdout",
     "output_type": "stream",
     "text": [
      "--------------------------------------------------------------------------------\n",
      "    SOURCE: Indeed, she had quite a long argument with the Lory, who at last turned sulky, and would only say, 'I am older than you, and must know better'; and this Alice would not allow without knowing how old it was, and, as the Lory positively refused to tell its age, there was no more to be said.\n",
      "    TARGET: De fato, ela teve uma discussão bastante longa com o Papagaio, que no final ficou emburrado, e só dizia 'Eu sou mais velho que você, devo saber mais'; e isso Alice não permitiria sem saber quantos anos ele tinha e, como o Papagaio recusou-se a dizer sua idade, não havia mais nada a dizer.\n",
      " PREDICTED: De fato , ela teve uma discussão bastante longa com o Papagaio , que no final ficou emburrado , e só dizia ' Eu sou mais velho que você , devo ser mais '; e isso Alice não sem saber anos ele tinha e , como o Papagaio - se a dizer sua idade , não havia mais nada a dizer .\n",
      "--------------------------------------------------------------------------------\n",
      "    SOURCE: So she set to work, and very soon finished off the cake.\n",
      "    TARGET: Então ela voltou ao trabalho e logo terminou o bolo.\n",
      " PREDICTED: Então ela voltou ao trabalho e logo terminou o bolo .\n",
      "--------------------------------------------------------------------------------\n"
     ]
    },
    {
     "name": "stderr",
     "output_type": "stream",
     "text": [
      "Processing  Epoch 142: 100%|██████████| 158/158 [00:39<00:00,  4.01it/s, loss=1.151]\n",
      "stty: 'standard input': Inappropriate ioctl for device\n"
     ]
    },
    {
     "name": "stdout",
     "output_type": "stream",
     "text": [
      "--------------------------------------------------------------------------------\n",
      "    SOURCE: They had not gone far before they saw the Mock Turtle in the distance, sitting sad and lonely on a little ledge of rock, and, as they came nearer, Alice could hear him sighing as if his heart would break.\n",
      "    TARGET: Eles não tinham ido longe antes de ver a Tartaruga Falsa à distância, sentada triste e sozinha em um pequena peitoril de pedra, e, conforme chegavam perto, Alice podia ouvi-lo suspirando como se seu coração fosse partir.\n",
      " PREDICTED: Eles não tinha ido longe antes de ver a Tartaruga Falsa à distância , sentada triste e sozinha em um pequena de , e , conforme perto , Alice podia ouvi - lo .\n",
      "--------------------------------------------------------------------------------\n",
      "    SOURCE: He got behind Alice as he spoke.\n",
      "    TARGET: Ele colocou-se atrás de Alice enquanto falava.\n",
      " PREDICTED: Ele colocou - se atrás de Alice enquanto falava .\n",
      "--------------------------------------------------------------------------------\n"
     ]
    },
    {
     "name": "stderr",
     "output_type": "stream",
     "text": [
      "Processing  Epoch 143: 100%|██████████| 158/158 [00:39<00:00,  4.03it/s, loss=1.157]\n",
      "stty: 'standard input': Inappropriate ioctl for device\n"
     ]
    },
    {
     "name": "stdout",
     "output_type": "stream",
     "text": [
      "--------------------------------------------------------------------------------\n",
      "    SOURCE: 'Then, you know,' the Mock Turtle went on, 'you throw the--'\n",
      "    TARGET: \"...mudam as lagostas, e se retiram na mesma ordem\", continuou o Grifo.\n",
      " PREDICTED: \" Então , sabe \", a Tartaruga Falsa continuou , \" você as ...\"\n",
      "--------------------------------------------------------------------------------\n",
      "    SOURCE: So Alice got up and ran off, thinking while she ran, as well she might, what a wonderful dream it had been.\n",
      "    TARGET: Então Alice levantou e correu, pensando enquanto corria, tão bem quanto podia, do belo sonho que havia tido.\n",
      " PREDICTED: Então Alice levantou e correu , pensando enquanto corria , tão bem quanto podia , do belo sonho que havia tido .\n",
      "--------------------------------------------------------------------------------\n"
     ]
    },
    {
     "name": "stderr",
     "output_type": "stream",
     "text": [
      "Processing  Epoch 144: 100%|██████████| 158/158 [00:39<00:00,  4.01it/s, loss=1.133]\n",
      "stty: 'standard input': Inappropriate ioctl for device\n"
     ]
    },
    {
     "name": "stdout",
     "output_type": "stream",
     "text": [
      "--------------------------------------------------------------------------------\n",
      "    SOURCE: 'Yes, but I grow at a reasonable pace,' said the Dormouse: 'not in that ridiculous fashion.'\n",
      "    TARGET: \"Sim, mas cresço em um ritmo razoável\", disse o Arganaz: \"Não deste jeito ridículo.\"\n",
      " PREDICTED: \" Sim , mas em um \", disse o Arganaz : \" Não entendo .\"\n",
      "--------------------------------------------------------------------------------\n",
      "    SOURCE: This did not seem to encourage the witness at all: he kept shifting from one foot to the other, looking uneasily at the Queen, and in his confusion he bit a large piece out of his teacup instead of the bread-and-butter.\n",
      "    TARGET: Isto não pareceu encorajar a testemunha de modo algum: ele ficou trocando de um pé para o outro, olhando de modo constrangedor para a Rainha, e nesta confusão ele mordeu um pedaço grande de sua xícara de chá ao invés do pão com manteiga.\n",
      " PREDICTED: Isto não pareceu a testemunha de modo algum : ele ficou de um pé para o outro , olhando de modo para a Rainha , e nesta confusão ele um pedaço grande de sua xícara de chá ao do pão com manteiga .\n",
      "--------------------------------------------------------------------------------\n"
     ]
    },
    {
     "name": "stderr",
     "output_type": "stream",
     "text": [
      "Processing  Epoch 145: 100%|██████████| 158/158 [00:39<00:00,  4.02it/s, loss=1.145]\n",
      "stty: 'standard input': Inappropriate ioctl for device\n"
     ]
    },
    {
     "name": "stdout",
     "output_type": "stream",
     "text": [
      "--------------------------------------------------------------------------------\n",
      "    SOURCE: CHAPTER VIII The Queen's Croquet-Ground\n",
      "    TARGET: Capítulo VIII O Campo de cróquete da Rainha\n",
      " PREDICTED: Capítulo A Rainha de Copas do\n",
      "--------------------------------------------------------------------------------\n",
      "    SOURCE: Lewis Carroll\n",
      "    TARGET: Lewis Carroll\n",
      " PREDICTED: \n",
      "--------------------------------------------------------------------------------\n"
     ]
    },
    {
     "name": "stderr",
     "output_type": "stream",
     "text": [
      "Processing  Epoch 146: 100%|██████████| 158/158 [00:39<00:00,  4.03it/s, loss=1.135]\n",
      "stty: 'standard input': Inappropriate ioctl for device\n"
     ]
    },
    {
     "name": "stdout",
     "output_type": "stream",
     "text": [
      "--------------------------------------------------------------------------------\n",
      "    SOURCE: 'How queer it seems,' Alice said to herself, 'to be going messages for a rabbit!\n",
      "    TARGET: 'Que estranho parece,' disse Alice para si mesma, 'estar recebendo ordens de um coelho!\n",
      " PREDICTED: ' Que estranho parece ,' disse Alice para si mesma , ' estar !\n",
      "--------------------------------------------------------------------------------\n",
      "    SOURCE: 'There might be some sense in your knocking,' the Footman went on without attending to her, 'if we had the door between us.\n",
      "    TARGET: \"Haveria algum sentido em sua batida,\" o Lacaio continuou sem prestar atenção a ela, \"se nós tivéssemos a porta entre nós.\n",
      " PREDICTED: \" algum sentido em sua ,\" o Lacaio continuou sem atenção a ela , \" se nós íamos a porta entre nós .\n",
      "--------------------------------------------------------------------------------\n"
     ]
    },
    {
     "name": "stderr",
     "output_type": "stream",
     "text": [
      "Processing  Epoch 147: 100%|██████████| 158/158 [00:39<00:00,  4.04it/s, loss=1.149]\n",
      "stty: 'standard input': Inappropriate ioctl for device\n"
     ]
    },
    {
     "name": "stdout",
     "output_type": "stream",
     "text": [
      "--------------------------------------------------------------------------------\n",
      "    SOURCE: Come on!'\n",
      "    TARGET: Vamos!\"\n",
      " PREDICTED: Vamos !\"\n",
      "--------------------------------------------------------------------------------\n",
      "    SOURCE: 'Not a bit,' said the Caterpillar.\n",
      "    TARGET: 'Nem um pouco', disse a Lagarta.\n",
      " PREDICTED: ' um pouco ', disse a Lagarta .\n",
      "--------------------------------------------------------------------------------\n"
     ]
    },
    {
     "name": "stderr",
     "output_type": "stream",
     "text": [
      "Processing  Epoch 148: 100%|██████████| 158/158 [00:39<00:00,  4.03it/s, loss=1.123]\n",
      "stty: 'standard input': Inappropriate ioctl for device\n"
     ]
    },
    {
     "name": "stdout",
     "output_type": "stream",
     "text": [
      "--------------------------------------------------------------------------------\n",
      "    SOURCE: 'Now tell me, Pat, what's that in the window?'\n",
      "    TARGET: 'Agora diga-me, Pat, o que é aquilo na janela?'\n",
      " PREDICTED: ' Agora diga - me , Pat ?'\n",
      "--------------------------------------------------------------------------------\n",
      "    SOURCE: 'There's more evidence to come yet, please your Majesty,' said the White Rabbit, jumping up in a great hurry; 'this paper has just been picked up.'\n",
      "    TARGET: \"Existem mais evidências ainda para vir, por favor, Vossa Majestade\", disse o Coelho Branco, pulando com pressa; \"este papel acabou de ser apanhado\".\n",
      " PREDICTED: \" mais ainda para vir , por favor , Vossa Majestade \", disse o Coelho Branco , pulando com pressa ; \" este papel acabou de ser \".\n",
      "--------------------------------------------------------------------------------\n"
     ]
    },
    {
     "name": "stderr",
     "output_type": "stream",
     "text": [
      "Processing  Epoch 149: 100%|██████████| 158/158 [00:39<00:00,  4.04it/s, loss=1.128]\n",
      "stty: 'standard input': Inappropriate ioctl for device\n"
     ]
    },
    {
     "name": "stdout",
     "output_type": "stream",
     "text": [
      "--------------------------------------------------------------------------------\n",
      "    SOURCE: 'I don't quite understand you,' she said, as politely as she could.\n",
      "    TARGET: \"Não percebi bem,\" disse ela, tão educadamente como lhe foi possível.\n",
      " PREDICTED: \" Não bem ,\" disse ela , tão educadamente como lhe foi possível .\n",
      "--------------------------------------------------------------------------------\n",
      "    SOURCE: Lewis Carroll\n",
      "    TARGET: Lewis Carroll\n",
      " PREDICTED: \n",
      "--------------------------------------------------------------------------------\n"
     ]
    }
   ],
   "source": [
    "from config import get_config\n",
    "from train import train_model\n",
    "cfg=get_config()\n",
    "train_model(cfg)"
   ]
  }
 ],
 "metadata": {
  "kernelspec": {
   "display_name": "base",
   "language": "python",
   "name": "python3"
  },
  "language_info": {
   "codemirror_mode": {
    "name": "ipython",
    "version": 3
   },
   "file_extension": ".py",
   "mimetype": "text/x-python",
   "name": "python",
   "nbconvert_exporter": "python",
   "pygments_lexer": "ipython3",
   "version": "3.12.4"
  }
 },
 "nbformat": 4,
 "nbformat_minor": 2
}
