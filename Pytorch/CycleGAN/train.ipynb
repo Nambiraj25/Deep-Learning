{
 "cells": [
  {
   "cell_type": "code",
   "execution_count": 2,
   "metadata": {},
   "outputs": [],
   "source": [
    "import torch\n",
    "from torch import nn,optim\n",
    "from torch.utils.data import DataLoader\n",
    "from discriminator_model import Discriminator\n",
    "from generator_model import Generator\n",
    "from torchvision import transforms\n",
    "import torchvision\n",
    "from tqdm import tqdm\n",
    "from Dataset import CustomDataset\n",
    "import itertools\n",
    "import matplotlib.pyplot as plt\n",
    "import numpy as np\n",
    "import os\n"
   ]
  },
  {
   "cell_type": "code",
   "execution_count": 3,
   "metadata": {},
   "outputs": [],
   "source": [
    "device=\"cuda\"\n",
    "lr=2e-4\n",
    "batch_size=8\n",
    "epochs=100\n",
    "lambda_identity=0.5\n",
    "lambda_cycle=10\n",
    "img_size=256\n",
    "img_channels=3\n"
   ]
  },
  {
   "cell_type": "code",
   "execution_count": 4,
   "metadata": {},
   "outputs": [],
   "source": [
    "gen_G=Generator(img_channels,32,num_residuals=9).to(device)\n",
    "gen_f=Generator(img_channels,32,num_residuals=9).to(device)\n",
    "disc_X=Discriminator(in_channels=img_channels,features=[32,64,128,256]).to(device)\n",
    "disc_Y=Discriminator(in_channels=img_channels,features=[32,64,128,256]).to(device)\n"
   ]
  },
  {
   "cell_type": "code",
   "execution_count": 5,
   "metadata": {},
   "outputs": [],
   "source": [
    "optim_G=optim.Adam(\n",
    "  itertools.chain(gen_G.parameters(),gen_f.parameters()),\n",
    "  lr=lr,\n",
    "  betas=(0.5,0.999)\n",
    ")\n",
    "optim_D=optim.Adam(\n",
    "  itertools.chain(disc_X.parameters(),disc_Y.parameters()),\n",
    "  lr=lr,\n",
    "  betas=(0.5,0.999)\n",
    "\n",
    ")\n"
   ]
  },
  {
   "cell_type": "code",
   "execution_count": 6,
   "metadata": {},
   "outputs": [],
   "source": [
    "L1=nn.L1Loss()\n",
    "MSE=nn.MSELoss()\n"
   ]
  },
  {
   "cell_type": "code",
   "execution_count": 7,
   "metadata": {},
   "outputs": [],
   "source": [
    "transform=transforms.Compose([\n",
    "  transforms.Resize((img_size,img_size)),\n",
    "  transforms.ToTensor(),\n",
    "  transforms.Normalize((0.5,0.5,0.5),(0.5,0.5,0.5))\n",
    "])\n"
   ]
  },
  {
   "cell_type": "code",
   "execution_count": 22,
   "metadata": {},
   "outputs": [],
   "source": [
    "dataset=CustomDataset(root_A=\"day_to_night/day\",root_B=\"day_to_night/night\",transform=transform)\n",
    "loader=DataLoader(dataset,batch_size=batch_size,shuffle=True,num_workers=6,pin_memory=True)\n"
   ]
  },
  {
   "cell_type": "code",
   "execution_count": 8,
   "metadata": {},
   "outputs": [],
   "source": [
    "import matplotlib.pyplot as plt\n",
    "import numpy as np\n",
    "\n",
    "def display_images(epoch, original_X, original_Y, generated_Y, generated_X):\n",
    "    fig, ax = plt.subplots(2, 2, figsize=(10, 10))\n",
    "\n",
    "\n",
    "    original_X = (original_X * 0.5) + 0.5\n",
    "    original_Y = (original_Y * 0.5) + 0.5\n",
    "    generated_Y = (generated_Y * 0.5) + 0.5\n",
    "    generated_X = (generated_X * 0.5) + 0.5\n",
    "\n",
    "   \n",
    "    original_X = original_X.cpu().detach().numpy()[0].astype(np.float32)\n",
    "    generated_Y = generated_Y.cpu().detach().numpy()[0].astype(np.float32)\n",
    "    original_Y = original_Y.cpu().detach().numpy()[0].astype(np.float32)\n",
    "    generated_X = generated_X.cpu().detach().numpy()[0].astype(np.float32)\n",
    "\n",
    "  \n",
    "    if original_X.shape[0] == 1: \n",
    "        original_X = np.squeeze(original_X, axis=0)\n",
    "        generated_Y = np.squeeze(generated_Y, axis=0)\n",
    "        original_Y = np.squeeze(original_Y, axis=0)\n",
    "        generated_X = np.squeeze(generated_X, axis=0)\n",
    "    else:  \n",
    "        original_X = np.transpose(original_X, (1, 2, 0))\n",
    "        generated_Y = np.transpose(generated_Y, (1, 2, 0))\n",
    "        original_Y = np.transpose(original_Y, (1, 2, 0))\n",
    "        generated_X = np.transpose(generated_X, (1, 2, 0))\n",
    "\n",
    " \n",
    "    ax[0, 0].imshow(original_X, cmap='gray' if len(original_X.shape) == 2 else None)\n",
    "    ax[0, 0].set_title(\"Original X\")\n",
    "    ax[0, 0].axis(\"off\")\n",
    "\n",
    "    ax[0, 1].imshow(generated_Y, cmap='gray' if len(generated_Y.shape) == 2 else None)\n",
    "    ax[0, 1].set_title(\"Generated Y (G(X))\")\n",
    "    ax[0, 1].axis(\"off\")\n",
    "\n",
    "    ax[1, 0].imshow(original_Y, cmap='gray' if len(original_Y.shape) == 2 else None)\n",
    "    ax[1, 0].set_title(\"Original Y\")\n",
    "    ax[1, 0].axis(\"off\")\n",
    "\n",
    "    ax[1, 1].imshow(generated_X, cmap='gray' if len(generated_X.shape) == 2 else None)\n",
    "    ax[1, 1].set_title(\"Generated X (F(Y))\")\n",
    "    ax[1, 1].axis(\"off\")\n",
    "\n",
    "    plt.suptitle(f\"Epoch {epoch}\")\n",
    "    plt.show()\n"
   ]
  },
  {
   "cell_type": "code",
   "execution_count": 9,
   "metadata": {},
   "outputs": [],
   "source": [
    "d_scaler=torch.cuda.amp.GradScaler()\n",
    "g_scaler=torch.cuda.amp.GradScaler()"
   ]
  },
  {
   "cell_type": "code",
   "execution_count": null,
   "metadata": {},
   "outputs": [],
   "source": [
    "for epoch in range(epochs):\n",
    "    \n",
    "    loop=tqdm(loader,desc=f\"Epoch {epoch+1}/{epochs}\",leave=True)\n",
    "    for idx,(x,y) in enumerate(loop):\n",
    "      \n",
    "      x=x.to(device)\n",
    "      y=y.to(device)\n",
    "     \n",
    "      with torch.cuda.amp.autocast():\n",
    "        # discriminator x to y\n",
    "        fake_y=gen_G(x)\n",
    "        D_Y_real=disc_Y(y)\n",
    "        D_Y_fake=disc_Y(fake_y.detach())\n",
    "        D_Y_real_loss=MSE(D_Y_real,torch.ones_like(D_Y_real))\n",
    "        D_Y_fake_loss=MSE(D_Y_fake,torch.zeros_like(D_Y_fake))\n",
    "        D_Y_loss=(D_Y_real_loss+D_Y_fake_loss)/2\n",
    "        # discrminator y to x\n",
    "        fake_x=gen_f(y)\n",
    "        D_X_real=disc_X(x)\n",
    "        D_X_fake=disc_X(fake_x.detach())\n",
    "        D_X_real_loss=MSE(D_X_real,torch.ones_like(D_X_real))\n",
    "        D_X_fake_loss=MSE(D_X_fake,torch.zeros_like(D_X_fake))\n",
    "        D_X_loss=(D_X_real_loss + D_X_fake_loss)/2\n",
    "\n",
    "        D_loss=D_Y_loss+D_X_loss\n",
    "      optim_D.zero_grad()\n",
    "      d_scaler.scale(D_loss).backward()\n",
    "      d_scaler.step(optim_D)\n",
    "      d_scaler.update()\n",
    "      #Train Generator G and F\n",
    "      with torch.cuda.amp.autocast():\n",
    "        #Train Generator G and F\n",
    "        D_Y_fake=disc_Y(fake_y)\n",
    "        D_X_fake=disc_X(fake_x)\n",
    "        G_X_loss=MSE(D_X_fake,torch.ones_like(D_X_fake))\n",
    "        G_Y_loss=MSE(D_Y_fake,torch.ones_like(D_Y_fake))\n",
    "        \n",
    "        # Cycle Consistency loss \n",
    "\n",
    "        cycle_X=gen_f(fake_y)\n",
    "        cycle_Y=gen_G(fake_x)\n",
    "        cycle_loss_X=L1(x,cycle_X)\n",
    "        cycle_loss_Y=L1(y,cycle_Y)\n",
    "        cycle_loss=lambda_cycle*(cycle_loss_X+cycle_loss_Y)\n",
    "      \n",
    "        #identity loss\n",
    "        identity_x=gen_f(x)\n",
    "        identity_y=gen_G(y)\n",
    "        identity_loss_X=L1(x,identity_x)\n",
    "        identity_loss_Y=L1(y,identity_y)\n",
    "\n",
    "        G_loss=(\n",
    "        G_X_loss + G_Y_loss + cycle_loss + identity_loss_X * lambda_identity +identity_loss_Y * lambda_identity\n",
    "         )\n",
    "      optim_G.zero_grad()\n",
    "      g_scaler.scale(G_loss).backward()\n",
    "      g_scaler.step(optim_G)\n",
    "      g_scaler.update()\n",
    "      if idx % 10==0:\n",
    "        loop.set_postfix(\n",
    "        D_loss=D_loss.item(),\n",
    "        G_loss=G_loss.item()\n",
    "        )\n",
    "    with torch.no_grad():\n",
    "      fake_y=gen_G(x)\n",
    "      feak_x=gen_f(y)\n",
    "      display_images(epoch,x,y,fake_y,fake_x)\n",
    "    if (epoch + 1) % 2 == 0:\n",
    "            torch.save(gen_G.state_dict(),f\"generator_G(9).pth\")\n",
    "            torch.save(gen_f.state_dict(),f\"generator_F(9).pth\")\n",
    "            torch.save(disc_X.state_dict(),f\"discriminator_X(9).pth\")\n",
    "            torch.save(disc_Y.state_dict(),f\"discriminator_Y(9).pth\")\n",
    "            print(f\"Models saved at epoch {epoch + 1}.\")\n",
    "       \n",
    "\n"
   ]
  },
  {
   "cell_type": "code",
   "execution_count": null,
   "metadata": {},
   "outputs": [],
   "source": [
    "gen_G.load_state_dict(torch.load(\"generator_G(9).pth\"))\n",
    "gen_f.load_state_dict(torch.load(\"generator_F(9).pth\"))\n",
    "disc_X.load_state_dict(torch.load(\"discriminator_X(9).pth\"))\n",
    "disc_Y.load_state_dict(torch.load(\"discriminator_Y(9).pth\"))"
   ]
  },
  {
   "cell_type": "code",
   "execution_count": 13,
   "metadata": {},
   "outputs": [],
   "source": [
    "torch.save(gen_G.state_dict(),f\"generator_G(9).pth\")\n",
    "torch.save(gen_f.state_dict(),f\"generator_F(9).pth\")\n",
    "torch.save(disc_X.state_dict(),f\"discriminator_X(9).pth\")\n",
    "torch.save(disc_Y.state_dict(),f\"discriminator_Y(9).pth\")"
   ]
  },
  {
   "cell_type": "code",
   "execution_count": 10,
   "metadata": {},
   "outputs": [],
   "source": [
    "val_dataset=CustomDataset(root_A=\"night_to_day/valA\",root_B=\"night_to_day/valB\",transform=transform)\n",
    "val_loader=DataLoader(val_dataset,batch_size=batch_size,shuffle=True,num_workers=6,pin_memory=True)\n"
   ]
  },
  {
   "cell_type": "code",
   "execution_count": 11,
   "metadata": {},
   "outputs": [],
   "source": [
    "\n",
    "def evaluate_model(gen_G, gen_F, loader, device, num_images=10):\n",
    "    gen_G.eval()\n",
    "    gen_F.eval()\n",
    "\n",
    "    with torch.no_grad():\n",
    "        for idx, (x, y) in enumerate(loader):\n",
    "            if idx >= 1:\n",
    "                break\n",
    "\n",
    "            x = x.to(device)\n",
    "            y = y.to(device)\n",
    "\n",
    "            fake_y = gen_G(x)\n",
    "            fake_x = gen_F(y)\n",
    "\n",
    "            fig, axes = plt.subplots(2, num_images, figsize=(15, 6))\n",
    "            for i in range(num_images):\n",
    "                axes[0, i].imshow(torchvision.utils.make_grid(x[i].cpu(), normalize=True).permute(1, 2, 0))\n",
    "                axes[0, i].axis('off')\n",
    "                axes[1, i].imshow(torchvision.utils.make_grid(fake_y[i].cpu(), normalize=True).permute(1, 2, 0))\n",
    "                axes[1, i].axis('off')\n",
    "\n",
    "            plt.suptitle('Real Images (Top Row) (Day) vs. Generated Images (Bottom Row) (Night)')\n",
    "            plt.show()\n",
    "\n",
    "            fig, axes = plt.subplots(2, num_images, figsize=(15, 6))\n",
    "            for i in range(num_images):\n",
    "                axes[0, i].imshow(torchvision.utils.make_grid(y[i].cpu(), normalize=True).permute(1, 2, 0))\n",
    "                axes[0, i].axis('off')\n",
    "                axes[1, i].imshow(torchvision.utils.make_grid(fake_x[i].cpu(), normalize=True).permute(1, 2, 0))\n",
    "                axes[1, i].axis('off')\n",
    "\n",
    "            plt.suptitle('Real Images (Top Row) (Night) vs. Generated Images (Bottom Row) (Day)')\n",
    "            plt.show()\n",
    "\n",
    "            break"
   ]
  },
  {
   "cell_type": "code",
   "execution_count": null,
   "metadata": {},
   "outputs": [],
   "source": [
    "evaluate_model(gen_G, gen_f, val_loader, device, num_images=5)\n"
   ]
  }
 ],
 "metadata": {
  "kernelspec": {
   "display_name": "deeplearning",
   "language": "python",
   "name": "python3"
  },
  "language_info": {
   "codemirror_mode": {
    "name": "ipython",
    "version": 3
   },
   "file_extension": ".py",
   "mimetype": "text/x-python",
   "name": "python",
   "nbconvert_exporter": "python",
   "pygments_lexer": "ipython3",
   "version": "3.10.13"
  }
 },
 "nbformat": 4,
 "nbformat_minor": 2
}
